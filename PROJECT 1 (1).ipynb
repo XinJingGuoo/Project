{
 "cells": [
  {
   "cell_type": "markdown",
   "id": "ffb7e1cf-dad3-4f83-aa90-238035d4456d",
   "metadata": {},
   "source": [
    "## Firstly, we load the data and show the first 5 row data ##\n"
   ]
  },
  {
   "cell_type": "code",
   "execution_count": 7,
   "id": "81bad49c-4645-4be3-82a2-618153151eb7",
   "metadata": {},
   "outputs": [
    {
     "data": {
      "text/html": [
       "<div>\n",
       "<style scoped>\n",
       "    .dataframe tbody tr th:only-of-type {\n",
       "        vertical-align: middle;\n",
       "    }\n",
       "\n",
       "    .dataframe tbody tr th {\n",
       "        vertical-align: top;\n",
       "    }\n",
       "\n",
       "    .dataframe thead th {\n",
       "        text-align: right;\n",
       "    }\n",
       "</style>\n",
       "<table border=\"1\" class=\"dataframe\">\n",
       "  <thead>\n",
       "    <tr style=\"text-align: right;\">\n",
       "      <th></th>\n",
       "      <th>CRASH DATE_CRASH TIME</th>\n",
       "      <th>BOROUGH</th>\n",
       "      <th>ZIP CODE</th>\n",
       "      <th>LATITUDE</th>\n",
       "      <th>LONGITUDE</th>\n",
       "      <th>LOCATION</th>\n",
       "      <th>ON STREET NAME</th>\n",
       "      <th>CROSS STREET NAME</th>\n",
       "      <th>OFF STREET NAME</th>\n",
       "      <th>NUMBER OF PERSONS INJURED</th>\n",
       "      <th>...</th>\n",
       "      <th>CONTRIBUTING FACTOR VEHICLE 2</th>\n",
       "      <th>CONTRIBUTING FACTOR VEHICLE 3</th>\n",
       "      <th>CONTRIBUTING FACTOR VEHICLE 4</th>\n",
       "      <th>CONTRIBUTING FACTOR VEHICLE 5</th>\n",
       "      <th>COLLISION_ID</th>\n",
       "      <th>VEHICLE TYPE CODE 1</th>\n",
       "      <th>VEHICLE TYPE CODE 2</th>\n",
       "      <th>VEHICLE TYPE CODE 3</th>\n",
       "      <th>VEHICLE TYPE CODE 4</th>\n",
       "      <th>VEHICLE TYPE CODE 5</th>\n",
       "    </tr>\n",
       "  </thead>\n",
       "  <tbody>\n",
       "    <tr>\n",
       "      <th>0</th>\n",
       "      <td>2021-09-11 02:39:00</td>\n",
       "      <td>NaN</td>\n",
       "      <td>NaN</td>\n",
       "      <td>NaN</td>\n",
       "      <td>NaN</td>\n",
       "      <td>NaN</td>\n",
       "      <td>WHITESTONE EXPRESSWAY</td>\n",
       "      <td>20 AVENUE</td>\n",
       "      <td>NaN</td>\n",
       "      <td>2.0</td>\n",
       "      <td>...</td>\n",
       "      <td>Unspecified</td>\n",
       "      <td>NaN</td>\n",
       "      <td>NaN</td>\n",
       "      <td>NaN</td>\n",
       "      <td>4455765</td>\n",
       "      <td>Sedan</td>\n",
       "      <td>Sedan</td>\n",
       "      <td>NaN</td>\n",
       "      <td>NaN</td>\n",
       "      <td>NaN</td>\n",
       "    </tr>\n",
       "    <tr>\n",
       "      <th>1</th>\n",
       "      <td>2022-03-26 11:45:00</td>\n",
       "      <td>NaN</td>\n",
       "      <td>NaN</td>\n",
       "      <td>NaN</td>\n",
       "      <td>NaN</td>\n",
       "      <td>NaN</td>\n",
       "      <td>QUEENSBORO BRIDGE UPPER</td>\n",
       "      <td>NaN</td>\n",
       "      <td>NaN</td>\n",
       "      <td>1.0</td>\n",
       "      <td>...</td>\n",
       "      <td>NaN</td>\n",
       "      <td>NaN</td>\n",
       "      <td>NaN</td>\n",
       "      <td>NaN</td>\n",
       "      <td>4513547</td>\n",
       "      <td>Sedan</td>\n",
       "      <td>NaN</td>\n",
       "      <td>NaN</td>\n",
       "      <td>NaN</td>\n",
       "      <td>NaN</td>\n",
       "    </tr>\n",
       "    <tr>\n",
       "      <th>2</th>\n",
       "      <td>2022-06-29 06:55:00</td>\n",
       "      <td>NaN</td>\n",
       "      <td>NaN</td>\n",
       "      <td>NaN</td>\n",
       "      <td>NaN</td>\n",
       "      <td>NaN</td>\n",
       "      <td>THROGS NECK BRIDGE</td>\n",
       "      <td>NaN</td>\n",
       "      <td>NaN</td>\n",
       "      <td>0.0</td>\n",
       "      <td>...</td>\n",
       "      <td>Unspecified</td>\n",
       "      <td>NaN</td>\n",
       "      <td>NaN</td>\n",
       "      <td>NaN</td>\n",
       "      <td>4541903</td>\n",
       "      <td>Sedan</td>\n",
       "      <td>Pick-up Truck</td>\n",
       "      <td>NaN</td>\n",
       "      <td>NaN</td>\n",
       "      <td>NaN</td>\n",
       "    </tr>\n",
       "    <tr>\n",
       "      <th>3</th>\n",
       "      <td>2021-09-11 09:35:00</td>\n",
       "      <td>BROOKLYN</td>\n",
       "      <td>11208.0</td>\n",
       "      <td>40.667202</td>\n",
       "      <td>-73.866500</td>\n",
       "      <td>(40.667202, -73.8665)</td>\n",
       "      <td>NaN</td>\n",
       "      <td>NaN</td>\n",
       "      <td>1211      LORING AVENUE</td>\n",
       "      <td>0.0</td>\n",
       "      <td>...</td>\n",
       "      <td>NaN</td>\n",
       "      <td>NaN</td>\n",
       "      <td>NaN</td>\n",
       "      <td>NaN</td>\n",
       "      <td>4456314</td>\n",
       "      <td>Sedan</td>\n",
       "      <td>NaN</td>\n",
       "      <td>NaN</td>\n",
       "      <td>NaN</td>\n",
       "      <td>NaN</td>\n",
       "    </tr>\n",
       "    <tr>\n",
       "      <th>4</th>\n",
       "      <td>2021-12-14 08:13:00</td>\n",
       "      <td>BROOKLYN</td>\n",
       "      <td>11233.0</td>\n",
       "      <td>40.683304</td>\n",
       "      <td>-73.917274</td>\n",
       "      <td>(40.683304, -73.917274)</td>\n",
       "      <td>SARATOGA AVENUE</td>\n",
       "      <td>DECATUR STREET</td>\n",
       "      <td>NaN</td>\n",
       "      <td>0.0</td>\n",
       "      <td>...</td>\n",
       "      <td>NaN</td>\n",
       "      <td>NaN</td>\n",
       "      <td>NaN</td>\n",
       "      <td>NaN</td>\n",
       "      <td>4486609</td>\n",
       "      <td>NaN</td>\n",
       "      <td>NaN</td>\n",
       "      <td>NaN</td>\n",
       "      <td>NaN</td>\n",
       "      <td>NaN</td>\n",
       "    </tr>\n",
       "  </tbody>\n",
       "</table>\n",
       "<p>5 rows × 28 columns</p>\n",
       "</div>"
      ],
      "text/plain": [
       "  CRASH DATE_CRASH TIME   BOROUGH ZIP CODE   LATITUDE  LONGITUDE  \\\n",
       "0   2021-09-11 02:39:00       NaN      NaN        NaN        NaN   \n",
       "1   2022-03-26 11:45:00       NaN      NaN        NaN        NaN   \n",
       "2   2022-06-29 06:55:00       NaN      NaN        NaN        NaN   \n",
       "3   2021-09-11 09:35:00  BROOKLYN  11208.0  40.667202 -73.866500   \n",
       "4   2021-12-14 08:13:00  BROOKLYN  11233.0  40.683304 -73.917274   \n",
       "\n",
       "                  LOCATION           ON STREET NAME CROSS STREET NAME  \\\n",
       "0                      NaN    WHITESTONE EXPRESSWAY         20 AVENUE   \n",
       "1                      NaN  QUEENSBORO BRIDGE UPPER               NaN   \n",
       "2                      NaN       THROGS NECK BRIDGE               NaN   \n",
       "3    (40.667202, -73.8665)                      NaN               NaN   \n",
       "4  (40.683304, -73.917274)          SARATOGA AVENUE    DECATUR STREET   \n",
       "\n",
       "           OFF STREET NAME  NUMBER OF PERSONS INJURED  ...  \\\n",
       "0                      NaN                        2.0  ...   \n",
       "1                      NaN                        1.0  ...   \n",
       "2                      NaN                        0.0  ...   \n",
       "3  1211      LORING AVENUE                        0.0  ...   \n",
       "4                      NaN                        0.0  ...   \n",
       "\n",
       "   CONTRIBUTING FACTOR VEHICLE 2  CONTRIBUTING FACTOR VEHICLE 3  \\\n",
       "0                    Unspecified                            NaN   \n",
       "1                            NaN                            NaN   \n",
       "2                    Unspecified                            NaN   \n",
       "3                            NaN                            NaN   \n",
       "4                            NaN                            NaN   \n",
       "\n",
       "   CONTRIBUTING FACTOR VEHICLE 4  CONTRIBUTING FACTOR VEHICLE 5  COLLISION_ID  \\\n",
       "0                            NaN                            NaN       4455765   \n",
       "1                            NaN                            NaN       4513547   \n",
       "2                            NaN                            NaN       4541903   \n",
       "3                            NaN                            NaN       4456314   \n",
       "4                            NaN                            NaN       4486609   \n",
       "\n",
       "   VEHICLE TYPE CODE 1  VEHICLE TYPE CODE 2 VEHICLE TYPE CODE 3  \\\n",
       "0                Sedan                Sedan                 NaN   \n",
       "1                Sedan                  NaN                 NaN   \n",
       "2                Sedan        Pick-up Truck                 NaN   \n",
       "3                Sedan                  NaN                 NaN   \n",
       "4                  NaN                  NaN                 NaN   \n",
       "\n",
       "  VEHICLE TYPE CODE 4 VEHICLE TYPE CODE 5  \n",
       "0                 NaN                 NaN  \n",
       "1                 NaN                 NaN  \n",
       "2                 NaN                 NaN  \n",
       "3                 NaN                 NaN  \n",
       "4                 NaN                 NaN  \n",
       "\n",
       "[5 rows x 28 columns]"
      ]
     },
     "execution_count": 7,
     "metadata": {},
     "output_type": "execute_result"
    }
   ],
   "source": [
    "import pandas as pd\n",
    "df = pd.read_pickle(r\"shared/Motor_Vehicle_Collisions_-_Crashes.pkl\")\n",
    "df.head()"
   ]
  },
  {
   "cell_type": "markdown",
   "id": "e675e074-643e-44ac-9928-089d89f9a3c0",
   "metadata": {},
   "source": [
    "### 1. Discover what's the number of crashes in the region since 2012? ###"
   ]
  },
  {
   "cell_type": "code",
   "execution_count": 8,
   "id": "710b0ffa-ceb2-4d5d-9743-8c77dfac32aa",
   "metadata": {},
   "outputs": [
    {
     "data": {
      "text/plain": [
       "BOROUGH\n",
       "BROOKLYN         441026\n",
       "QUEENS           372457\n",
       "MANHATTAN        313266\n",
       "BRONX            205345\n",
       "STATEN ISLAND     58297\n",
       "Name: count, dtype: int64"
      ]
     },
     "execution_count": 8,
     "metadata": {},
     "output_type": "execute_result"
    }
   ],
   "source": [
    "# Firstly, convert the data time to the datetime format\n",
    "df['CRASH DATE_CRASH TIME'] = pd.to_datetime(df['CRASH DATE_CRASH TIME'])\n",
    "\n",
    "# Filter the year since 2012 \n",
    "df_since_2012 = df[df['CRASH DATE_CRASH TIME'].dt.year >= 2012]\n",
    "\n",
    "# Based on the BOROUGH, to determine the number of accidents in different area\n",
    "borough_crashes = df_since_2012['BOROUGH'].value_counts()\n",
    "\n",
    "# Based on the data showed below, we can know the second highest borough\n",
    "borough_crashes\n"
   ]
  },
  {
   "cell_type": "markdown",
   "id": "b0430d71-24f2-4b82-b69b-1405532aa184",
   "metadata": {},
   "source": [
    "### 2. Based on the previous question, which borough has the most crashes for every 100,000 people? ###"
   ]
  },
  {
   "cell_type": "code",
   "execution_count": 9,
   "id": "4719e47c-9be6-4295-b571-3d1b469cbe3e",
   "metadata": {},
   "outputs": [
    {
     "name": "stdout",
     "output_type": "stream",
     "text": [
      "MANHATTAN\n",
      "19121.628096767283\n"
     ]
    }
   ],
   "source": [
    "\n",
    "# Population estimates for each borough\n",
    "population_borough = {\n",
    "    'BRONX': 1446788,\n",
    "    'BROOKLYN': 2648452,\n",
    "    'MANHATTAN': 1638281,\n",
    "    'QUEENS': 2330295,\n",
    "    'STATEN ISLAND': 487155\n",
    "}\n",
    "\n",
    "# Calculate the crash rate per 100,000 people for each borough\n",
    "crush_borough = (borough_crashes / borough_crashes.index.map(population_borough)) * 100000\n",
    "\n",
    "# show the name of borough with most crashes \n",
    "print(crush_borough.idxmax())\n",
    "# show the most number of crash of borough\n",
    "print(crush_borough.max())\n"
   ]
  },
  {
   "cell_type": "markdown",
   "id": "6f4af404-0f07-4078-8b11-0fd64c088689",
   "metadata": {},
   "source": [
    "### 3. What proportion of accidents are attributable to this cause? ###"
   ]
  },
  {
   "cell_type": "code",
   "execution_count": 10,
   "id": "57986034-60c5-4821-b039-b084ac9ca12b",
   "metadata": {},
   "outputs": [
    {
     "name": "stdout",
     "output_type": "stream",
     "text": [
      "Driver Inattention/Distraction\n"
     ]
    },
    {
     "data": {
      "text/plain": [
       "0.3027229539746618"
      ]
     },
     "execution_count": 10,
     "metadata": {},
     "output_type": "execute_result"
    }
   ],
   "source": [
    "#3\n",
    "# remove the missing value of data \n",
    "df_filtered = df[df['CONTRIBUTING FACTOR VEHICLE 1'] != 'Unspecified']\n",
    "\n",
    "# find out which reason caused the most accident \n",
    "leading_cause = df_filtered['CONTRIBUTING FACTOR VEHICLE 1'].value_counts().idxmax()\n",
    "\n",
    "# determine the number of accident in this reason \n",
    "leading_cause_count = df_filtered['CONTRIBUTING FACTOR VEHICLE 1'].value_counts().max()\n",
    "\n",
    "# calculate the number of Total accidents \n",
    "total_filtered_crashes = df_filtered.shape[0]\n",
    "\n",
    "# find the probability of the reason in total accident \n",
    "proportion_of_leading_cause = leading_cause_count / total_filtered_crashes\n",
    "\n",
    "print(leading_cause)\n",
    "proportion_of_leading_cause"
   ]
  },
  {
   "cell_type": "markdown",
   "id": "b03a2449-f976-4309-9fc3-54dd6c4cbbad",
   "metadata": {},
   "source": [
    "### 4. The top 5 causes of crashes account for what proportion of total crashes? ###"
   ]
  },
  {
   "cell_type": "code",
   "execution_count": 11,
   "id": "16ad5f31-3c25-4b0d-9c9b-a9f1a0fdb0b9",
   "metadata": {},
   "outputs": [
    {
     "data": {
      "text/plain": [
       "0.5803878374209062"
      ]
     },
     "execution_count": 11,
     "metadata": {},
     "output_type": "execute_result"
    }
   ],
   "source": [
    "# Calculate the count of crashes for the top 5 causes, excluding 'Unspecified'\n",
    "top_5_causes_counts = df_filtered['CONTRIBUTING FACTOR VEHICLE 1'].value_counts().head(5)\n",
    "\n",
    "# Calculate the proportion of total crashes attributable to these top 5 causes\n",
    "total_crashes = df_filtered['CONTRIBUTING FACTOR VEHICLE 1'].count()\n",
    "\n",
    "#Calculate the total count of crashes for these top 5 causes and the proportion \n",
    "(top_5_causes_counts.sum()) / total_crashes\n",
    "\n"
   ]
  },
  {
   "cell_type": "markdown",
   "id": "b5a9473e-bad2-45d6-b555-df10de1161fa",
   "metadata": {},
   "source": [
    "### 5. The total count of accidents that involved two or more fatalities? ###"
   ]
  },
  {
   "cell_type": "code",
   "execution_count": 12,
   "id": "c35870c2-3735-49a5-89c3-ac76b22d36b3",
   "metadata": {},
   "outputs": [
    {
     "data": {
      "text/plain": [
       "88"
      ]
     },
     "execution_count": 12,
     "metadata": {},
     "output_type": "execute_result"
    }
   ],
   "source": [
    "\n",
    "df['CRASH DATE_CRASH TIME'] = pd.to_datetime(df['CRASH DATE_CRASH TIME'])\n",
    "\n",
    "# Filter the year since 2012\n",
    "df_since_2012 = df[df['CRASH DATE_CRASH TIME'].dt.year >= 2012]\n",
    "\n",
    "# let missing value of 'NUMBER OF PERSONS KILLED' be 0\n",
    "df_since_2012['NUMBER OF PERSONS KILLED'] = df_since_2012['NUMBER OF PERSONS KILLED'].fillna(0)\n",
    "\n",
    "# count the number of person killed above 2 \n",
    "df_since_2012[df_since_2012['NUMBER OF PERSONS KILLED'] >= 2].shape[0]\n"
   ]
  },
  {
   "cell_type": "markdown",
   "id": "6879efd3-caf9-4e86-b906-8833097e4f24",
   "metadata": {},
   "source": [
    "### 6. On average, for every 1000 accidents, how many have resulted in at least one person dead? ###"
   ]
  },
  {
   "cell_type": "code",
   "execution_count": 13,
   "id": "2494ba74-1767-4126-878c-9e142214e1bc",
   "metadata": {},
   "outputs": [
    {
     "data": {
      "text/plain": [
       "1.3893258747079764"
      ]
     },
     "execution_count": 13,
     "metadata": {},
     "output_type": "execute_result"
    }
   ],
   "source": [
    "# let the missing value of 'NUMBER OF PERSONS KILLED' be 0\n",
    "df['NUMBER OF PERSONS KILLED'] = df['NUMBER OF PERSONS KILLED'].fillna(0)\n",
    "\n",
    "# calculate the number of person killed greater than 1 \n",
    "accidents_least_one_death = df[df['NUMBER OF PERSONS KILLED'] >= 1].shape[0]\n",
    "\n",
    "# count the number of at least one person death in every 1000 accidents \n",
    "(accidents_least_one_death / (df.shape[0])) * 1000\n"
   ]
  },
  {
   "cell_type": "markdown",
   "id": "3971e256-ad17-4800-85e1-81a58f4aadb0",
   "metadata": {},
   "source": [
    "### 7. The proportion of accidents not have a Cross Street Name ###"
   ]
  },
  {
   "cell_type": "code",
   "execution_count": 14,
   "id": "6892fd4e-f849-4dff-8450-40bfb805be7f",
   "metadata": {},
   "outputs": [
    {
     "data": {
      "text/plain": [
       "0.37435098315615795"
      ]
     },
     "execution_count": 14,
     "metadata": {},
     "output_type": "execute_result"
    }
   ],
   "source": [
    "# count the number of accident which not have a cross street name\n",
    "accidents_without_cross_street = df[df['CROSS STREET NAME'].isna()].shape[0]\n",
    "\n",
    "# count the proportion \n",
    "accidents_without_cross_street / (df.shape[0])\n",
    "\n"
   ]
  },
  {
   "cell_type": "markdown",
   "id": "c6522637-613f-429f-9145-d6fde6e5cff8",
   "metadata": {},
   "source": [
    "### 8. Which combination of vehicles have the most number of accidents in type 1 vehicle and type 2 vehicle ###"
   ]
  },
  {
   "cell_type": "code",
   "execution_count": 15,
   "id": "093fe97e-c8a1-4b28-9c93-6128782b2a00",
   "metadata": {},
   "outputs": [
    {
     "data": {
      "text/plain": [
       "SORTED VEHICLE COMBINATION\n",
       "Sedan & Station Wagon/Sport Utility Vehicle                                  247727\n",
       "Sedan & Sedan                                                                197944\n",
       "PASSENGER VEHICLE & PASSENGER VEHICLE                                        193260\n",
       "Sedan & nan                                                                  138151\n",
       "Station Wagon/Sport Utility Vehicle & Station Wagon/Sport Utility Vehicle    133780\n",
       "                                                                              ...  \n",
       "Box Truck & POST                                                                  1\n",
       "Station Wagon/Sport Utility Vehicle & wagon                                       1\n",
       "Van ( & nan                                                                       1\n",
       "Van & trail                                                                       1\n",
       "PEDICAB & nan                                                                     1\n",
       "Name: count, Length: 5950, dtype: int64"
      ]
     },
     "execution_count": 15,
     "metadata": {},
     "output_type": "execute_result"
    }
   ],
   "source": [
    "#8\n",
    "# create a new column and combine the vehicles in type 1 and type 2 \n",
    "df['VEHICLE TYPE CODE 1'] = df['VEHICLE TYPE CODE 1'].astype(str)\n",
    "df['VEHICLE TYPE CODE 2'] = df['VEHICLE TYPE CODE 2'].astype(str)\n",
    "df['SORTED VEHICLE COMBINATION'] = df.apply(lambda x: ' & '.join(sorted([x['VEHICLE TYPE CODE 1'], x['VEHICLE TYPE CODE 2']])), axis=1)\n",
    "\n",
    "# count the number of combination \n",
    "df['SORTED VEHICLE COMBINATION'].value_counts()\n"
   ]
  },
  {
   "cell_type": "markdown",
   "id": "ee1d8bd7-9836-4dd3-9922-bf289ce18a39",
   "metadata": {},
   "source": [
    "### 9. Among crashes where the contributing factor was alcohol involvement, what proportion resulted in a fatality? ###"
   ]
  },
  {
   "cell_type": "code",
   "execution_count": 16,
   "id": "bd72eb4d-817b-4cec-97bd-9ce5b00fb5bd",
   "metadata": {},
   "outputs": [
    {
     "name": "stderr",
     "output_type": "stream",
     "text": [
      "/tmp/ipykernel_151/2240504011.py:5: SettingWithCopyWarning: \n",
      "A value is trying to be set on a copy of a slice from a DataFrame.\n",
      "Try using .loc[row_indexer,col_indexer] = value instead\n",
      "\n",
      "See the caveats in the documentation: https://pandas.pydata.org/pandas-docs/stable/user_guide/indexing.html#returning-a-view-versus-a-copy\n",
      "  alcohol_related_accidents['NUMBER OF PERSONS KILLED'] = alcohol_related_accidents['NUMBER OF PERSONS KILLED'].fillna(0)\n"
     ]
    },
    {
     "data": {
      "text/plain": [
       "0.0046638345031400075"
      ]
     },
     "execution_count": 16,
     "metadata": {},
     "output_type": "execute_result"
    }
   ],
   "source": [
    "# filter the accident which caused by Alcohol Involvement in CONTRIBUTING FACTOR VEHICLE 1\n",
    "alcohol_related_accidents = df[df['CONTRIBUTING FACTOR VEHICLE 1'] == 'Alcohol Involvement']\n",
    "\n",
    "# let missing value of 'NUMBER OF PERSONS KILLED' is 0\n",
    "alcohol_related_accidents['NUMBER OF PERSONS KILLED'] = alcohol_related_accidents['NUMBER OF PERSONS KILLED'].fillna(0)\n",
    "\n",
    "# filter the data which number of person killed is greater than 1 and calculate the number of accident \n",
    "alcohol_accidents = alcohol_related_accidents[alcohol_related_accidents['NUMBER OF PERSONS KILLED'] >= 1].shape[0]\n",
    "\n",
    "# calculate the total number of accident \n",
    "total_alcohol = alcohol_related_accidents.shape[0]\n",
    "\n",
    "# get proportion \n",
    "alcohol_accidents / total_alcohol\n",
    "\n"
   ]
  },
  {
   "cell_type": "markdown",
   "id": "193bea53-e27c-4329-8c97-238993dfc444",
   "metadata": {},
   "source": [
    "### 10. What proportion of crashes occur during the evening rush hour, starting at 4 PM, and before 7 PM? ###"
   ]
  },
  {
   "cell_type": "code",
   "execution_count": 17,
   "id": "e06cab4d-6736-4b7a-a8ce-5a4760d21c70",
   "metadata": {},
   "outputs": [
    {
     "data": {
      "text/plain": [
       "0.20514010935243243"
      ]
     },
     "execution_count": 17,
     "metadata": {},
     "output_type": "execute_result"
    }
   ],
   "source": [
    "# filter the time between 4 pm and 7 pm \n",
    "evening_rush_hour_crashes = df[(df['CRASH DATE_CRASH TIME'].dt.hour >= 16) & (df['CRASH DATE_CRASH TIME'].dt.hour < 19)]\n",
    "\n",
    "# calculate the number of accident in the range and the total number of accident to get the proportion\n",
    "(evening_rush_hour_crashes.shape[0]) / (df.shape[0])"
   ]
  },
  {
   "cell_type": "markdown",
   "id": "ba3015b1-1ab6-44a3-90bc-31b3acf95bc6",
   "metadata": {},
   "source": [
    "### 11. Among crashes involving motorcycles, what proportion resulted in injuries but no fatalities? ###"
   ]
  },
  {
   "cell_type": "code",
   "execution_count": 18,
   "id": "c4131a51-5574-4048-9b5f-e4fe6379c860",
   "metadata": {},
   "outputs": [
    {
     "name": "stderr",
     "output_type": "stream",
     "text": [
      "/tmp/ipykernel_151/1467522488.py:6: SettingWithCopyWarning: \n",
      "A value is trying to be set on a copy of a slice from a DataFrame.\n",
      "Try using .loc[row_indexer,col_indexer] = value instead\n",
      "\n",
      "See the caveats in the documentation: https://pandas.pydata.org/pandas-docs/stable/user_guide/indexing.html#returning-a-view-versus-a-copy\n",
      "  motorcycle['NUMBER OF PERSONS INJURED'] = motorcycle['NUMBER OF PERSONS INJURED'].fillna(0)\n",
      "/tmp/ipykernel_151/1467522488.py:7: SettingWithCopyWarning: \n",
      "A value is trying to be set on a copy of a slice from a DataFrame.\n",
      "Try using .loc[row_indexer,col_indexer] = value instead\n",
      "\n",
      "See the caveats in the documentation: https://pandas.pydata.org/pandas-docs/stable/user_guide/indexing.html#returning-a-view-versus-a-copy\n",
      "  motorcycle['NUMBER OF PERSONS KILLED'] = motorcycle['NUMBER OF PERSONS KILLED'].fillna(0)\n"
     ]
    },
    {
     "data": {
      "text/plain": [
       "0.5004565018912221"
      ]
     },
     "execution_count": 18,
     "metadata": {},
     "output_type": "execute_result"
    }
   ],
   "source": [
    "# From VEHICLE TYPE CODE 1 and VEHICLE TYPE CODE 2, filter the MOTORCYCLE and combine to motorcycle\n",
    "motorcycle = df[(df['VEHICLE TYPE CODE 1'].str.contains('MOTORCYCLE', na=False)) | \n",
    "                        (df['VEHICLE TYPE CODE 2'].str.contains('MOTORCYCLE', na=False))]\n",
    "\n",
    "# let the missing value of 'NUMBER OF PERSONS INJURED' and 'NUMBER OF PERSONS KILLED' be 0 \n",
    "motorcycle['NUMBER OF PERSONS INJURED'] = motorcycle['NUMBER OF PERSONS INJURED'].fillna(0)\n",
    "motorcycle['NUMBER OF PERSONS KILLED'] = motorcycle['NUMBER OF PERSONS KILLED'].fillna(0)\n",
    "\n",
    "# filter the number of person injured greater than 0 and let the number of killed equal to 0 \n",
    "injuries_without_fatalities = motorcycle[(motorcycle['NUMBER OF PERSONS INJURED'] > 0) & \n",
    "                                                  (motorcycle['NUMBER OF PERSONS KILLED'] == 0)]\n",
    "\n",
    "# count the accident of injured without fatalities\n",
    "injuries_without_fatalities_count = injuries_without_fatalities.shape[0]\n",
    "\n",
    "# count the total number of motorcycle accident \n",
    "total_motorcycle = motorcycle.shape[0]\n",
    "\n",
    "# calculate the proportions \n",
    "injuries_without_fatalities_count / total_motorcycle\n"
   ]
  },
  {
   "cell_type": "markdown",
   "id": "1772e2c2-1d3d-4dc7-b20a-1daa19aa7406",
   "metadata": {},
   "source": [
    "### 12. Determine the number of crashes involved bicycles as one of the vehicles ###"
   ]
  },
  {
   "cell_type": "code",
   "execution_count": 19,
   "id": "923b2f26-db34-4c1d-8c41-2681ea75c392",
   "metadata": {},
   "outputs": [
    {
     "data": {
      "text/plain": [
       "19108"
      ]
     },
     "execution_count": 19,
     "metadata": {},
     "output_type": "execute_result"
    }
   ],
   "source": [
    "# combine the VEHICLE TYPE CODE 1 and VEHICLE TYPE CODE 2 data with the bicycle \n",
    "bicycle_crashes = df[(df['VEHICLE TYPE CODE 1'].str.contains('BICYCLE', na=False)) | \n",
    "                     (df['VEHICLE TYPE CODE 2'].str.contains('BICYCLE', na=False))]\n",
    "\n",
    "# count the total number \n",
    "total_bicycle_crashes = bicycle_crashes.shape[0]\n",
    "total_bicycle_crashes\n"
   ]
  }
 ],
 "metadata": {
  "kernelspec": {
   "display_name": "Python [conda env:mggy8413v2]",
   "language": "python",
   "name": "conda-env-mggy8413v2-py"
  },
  "language_info": {
   "codemirror_mode": {
    "name": "ipython",
    "version": 3
   },
   "file_extension": ".py",
   "mimetype": "text/x-python",
   "name": "python",
   "nbconvert_exporter": "python",
   "pygments_lexer": "ipython3",
   "version": "3.11.7"
  }
 },
 "nbformat": 4,
 "nbformat_minor": 5
}
