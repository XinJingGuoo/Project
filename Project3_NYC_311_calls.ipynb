{
 "cells": [
  {
   "cell_type": "code",
   "execution_count": 62,
   "id": "0d5859de-c318-47b1-b5a6-d74a555232ea",
   "metadata": {},
   "outputs": [],
   "source": [
    "import pandas as pd\n",
    "import numpy as np\n",
    "import matplotlib.pyplot as plt\n",
    "from prophet import Prophet\n",
    "from sklearn.metrics import mean_squared_error\n",
    "from math import sqrt\n",
    "from statsmodels.tsa.seasonal import seasonal_decompose"
   ]
  },
  {
   "cell_type": "code",
   "execution_count": 49,
   "id": "31568687-01f7-40bf-8c5d-52a3bb4294fc",
   "metadata": {},
   "outputs": [],
   "source": [
    "\n",
    "df = pd.read_pickle('Project-3_NYC_311_Calls.pkl')\n"
   ]
  },
  {
   "cell_type": "code",
   "execution_count": 50,
   "id": "c317ae2b-05f0-46cd-857c-0b1a86b9bb03",
   "metadata": {},
   "outputs": [
    {
     "name": "stdout",
     "output_type": "stream",
     "text": [
      "   Unique Key        Created Date Agency  \\\n",
      "0    20184537 2011-04-06 00:00:00    HPD   \n",
      "1    20184538 2011-04-06 00:00:00    HPD   \n",
      "2    20184539 2011-04-06 00:00:00    HPD   \n",
      "3    54732265 2022-07-08 11:14:43   DSNY   \n",
      "4    20184540 2011-04-06 00:00:00    HPD   \n",
      "\n",
      "                                         Agency Name        Complaint Type  \\\n",
      "0  Department of Housing Preservation and Develop...               HEATING   \n",
      "1  Department of Housing Preservation and Develop...  GENERAL CONSTRUCTION   \n",
      "2  Department of Housing Preservation and Develop...       PAINT - PLASTER   \n",
      "3                           Department of Sanitation       Dirty Condition   \n",
      "4  Department of Housing Preservation and Develop...              NONCONST   \n",
      "\n",
      "  Descriptor         Location Type Incident Zip      City  \\\n",
      "0       HEAT  RESIDENTIAL BUILDING      10002.0  NEW YORK   \n",
      "1    WINDOWS  RESIDENTIAL BUILDING      11236.0  BROOKLYN   \n",
      "2      WALLS  RESIDENTIAL BUILDING      10460.0     BRONX   \n",
      "3      Trash              Sidewalk      10467.0     BRONX   \n",
      "4     VERMIN  RESIDENTIAL BUILDING      10460.0     BRONX   \n",
      "\n",
      "                              Resolution Description    Borough  \\\n",
      "0  More than one complaint was received for this ...  MANHATTAN   \n",
      "1  The Department of Housing Preservation and Dev...   BROOKLYN   \n",
      "2  The Department of Housing Preservation and Dev...      BRONX   \n",
      "3  The Department of Sanitation investigated this...      BRONX   \n",
      "4  The Department of Housing Preservation and Dev...      BRONX   \n",
      "\n",
      "  Open Data Channel Type  \n",
      "0                UNKNOWN  \n",
      "1                UNKNOWN  \n",
      "2                UNKNOWN  \n",
      "3                  PHONE  \n",
      "4                UNKNOWN  \n"
     ]
    }
   ],
   "source": [
    "\n",
    "print(df.head())"
   ]
  },
  {
   "cell_type": "markdown",
   "id": "d90861f5-8578-45a1-8414-7a185fcf1e8a",
   "metadata": {},
   "source": [
    "## EDA PART ##"
   ]
  },
  {
   "cell_type": "markdown",
   "id": "e7cadff8-7422-4fad-a509-1fa3c09d0a55",
   "metadata": {},
   "source": [
    "#### make the index as a proper DatetimeIndex, and then delete the Created Date column ####\n"
   ]
  },
  {
   "cell_type": "code",
   "execution_count": 51,
   "id": "637f2ccb-8c0b-47ba-9600-f4063b9abd39",
   "metadata": {},
   "outputs": [],
   "source": [
    "df['Created Date'] = pd.to_datetime(df['Created Date'])\n",
    "df = df.set_index('Created Date')"
   ]
  },
  {
   "cell_type": "code",
   "execution_count": 52,
   "id": "1247d484-9f76-4b73-8e51-39bf53158f5f",
   "metadata": {},
   "outputs": [
    {
     "name": "stdout",
     "output_type": "stream",
     "text": [
      "<class 'pandas.core.frame.DataFrame'>\n",
      "DatetimeIndex: 33780977 entries, 2011-04-06 00:00:00 to 2011-04-06 00:00:00\n",
      "Data columns (total 11 columns):\n",
      " #   Column                  Dtype \n",
      "---  ------                  ----- \n",
      " 0   Unique Key              int64 \n",
      " 1   Agency                  object\n",
      " 2   Agency Name             object\n",
      " 3   Complaint Type          object\n",
      " 4   Descriptor              object\n",
      " 5   Location Type           object\n",
      " 6   Incident Zip            object\n",
      " 7   City                    object\n",
      " 8   Resolution Description  object\n",
      " 9   Borough                 object\n",
      " 10  Open Data Channel Type  object\n",
      "dtypes: int64(1), object(10)\n",
      "memory usage: 3.0+ GB\n",
      "None\n"
     ]
    }
   ],
   "source": [
    "# Get the general information about the DataFrame, including column data types and non-null values\n",
    "print(df.info())"
   ]
  },
  {
   "cell_type": "markdown",
   "id": "ae2e58f6-d16f-421f-9026-b206b8bd47d7",
   "metadata": {},
   "source": [
    "#### Count the unique complaint types and their frequency ####"
   ]
  },
  {
   "cell_type": "code",
   "execution_count": 53,
   "id": "0f380e52-442e-462b-b310-509cba946492",
   "metadata": {},
   "outputs": [
    {
     "name": "stdout",
     "output_type": "stream",
     "text": [
      "Complaint Type\n",
      "Noise - Residential               3131834\n",
      "Illegal Parking                   2110646\n",
      "HEAT/HOT WATER                    1983520\n",
      "Blocked Driveway                  1439795\n",
      "Street Condition                  1212154\n",
      "                                   ...   \n",
      "c:\\windows\\win.ini                      1\n",
      "idexf3mrb7)(!(objectClass=*)            1\n",
      "%E5%98%8A%E5%98%8DX-Injecti...          1\n",
      "() { :;}; /bin/sleep 11                 1\n",
      "Misc. Comments{${sleep(20)}}            1\n",
      "Name: count, Length: 485, dtype: int64\n",
      "Complaint Type\n",
      "Noise - Residential                    3131834\n",
      "Illegal Parking                        2110646\n",
      "HEAT/HOT WATER                         1983520\n",
      "Blocked Driveway                       1439795\n",
      "Street Condition                       1212154\n",
      "Street Light Condition                 1115391\n",
      "Noise - Street/Sidewalk                1101122\n",
      "Request Large Bulky Item Collection    1073753\n",
      "PLUMBING                                890888\n",
      "HEATING                                 887869\n",
      "Name: count, dtype: int64\n"
     ]
    }
   ],
   "source": [
    "complaint_counts = df['Complaint Type'].value_counts()\n",
    "print(complaint_counts)\n",
    "\n",
    "# Display the top 10 most frequent complaint types\n",
    "print(complaint_counts.head(10))"
   ]
  },
  {
   "cell_type": "markdown",
   "id": "710759be-35ac-490d-b9d8-67c34daa1243",
   "metadata": {},
   "source": [
    "#### Earliest and latest dates in the dataset ####"
   ]
  },
  {
   "cell_type": "code",
   "execution_count": 54,
   "id": "69d5663b-aed0-490a-9244-8e345802706a",
   "metadata": {},
   "outputs": [
    {
     "name": "stdout",
     "output_type": "stream",
     "text": [
      "Earliest date: 2010-01-01 00:00:00\n",
      "Latest date: 2023-08-04 12:00:00\n"
     ]
    }
   ],
   "source": [
    "earliest_date = df.index.min()\n",
    "latest_date = df.index.max()\n",
    "print(f\"Earliest date: {earliest_date}\")\n",
    "print(f\"Latest date: {latest_date}\")"
   ]
  },
  {
   "cell_type": "markdown",
   "id": "b136ee1b-cad8-4a6f-bf78-3a3abc32ea2d",
   "metadata": {},
   "source": [
    "#### Visualization of Complaints Over Time ####"
   ]
  },
  {
   "cell_type": "code",
   "execution_count": 67,
   "id": "f3c65bbd-b6c4-4d16-bfa8-82bd908ab43d",
   "metadata": {},
   "outputs": [
    {
     "data": {
      "image/png": "[encoded data removed]",
      "text/plain": [
       "<Figure size 640x480 with 1 Axes>"
      ]
     },
     "metadata": {},
     "output_type": "display_data"
    }
   ],
   "source": [
    "df['Complaint Type'].resample('Y').count().plot(title='Yearly Complaints Over Time')\n",
    "plt.xlabel('Year')\n",
    "plt.ylabel('Number of Complaints')\n",
    "plt.show()\n"
   ]
  },
  {
   "cell_type": "markdown",
   "id": "8b21a0ad-98e3-46da-b3f9-4f6e90131275",
   "metadata": {},
   "source": [
    "#### Filter complaint types and plot its frequency over time ####"
   ]
  },
  {
   "cell_type": "code",
   "execution_count": 68,
   "id": "8528095e-c7ff-4134-86c8-a460249072b5",
   "metadata": {},
   "outputs": [
    {
     "data": {
      "image/png": "[encoded data removed]",
      "text/plain": [
       "<Figure size 640x480 with 1 Axes>"
      ]
     },
     "metadata": {},
     "output_type": "display_data"
    }
   ],
   "source": [
    "specific_complaint = 'Noise - Residential'\n",
    "df[df['Complaint Type'] == specific_complaint]['Complaint Type'].resample('Y').count().plot(title=f'Yearly Frequency of {specific_complaint}')\n",
    "plt.xlabel('Year')\n",
    "plt.ylabel('Frequency')\n",
    "plt.show()\n"
   ]
  },
  {
   "cell_type": "markdown",
   "id": "738d670b-bbde-40cb-8849-df04b826f980",
   "metadata": {},
   "source": [
    "## the average number of daily complaints received in 2022 ##"
   ]
  },
  {
   "cell_type": "code",
   "execution_count": 57,
   "id": "2fa5a6e4-d80a-481c-9b9d-ccd31c4e0d10",
   "metadata": {},
   "outputs": [
    {
     "data": {
      "text/plain": [
       "8684.320547945206"
      ]
     },
     "execution_count": 57,
     "metadata": {},
     "output_type": "execute_result"
    }
   ],
   "source": [
    "# Sampling of data on a daily basis to calculate the number of complaints per day\n",
    "daily_complaints = df['Unique Key'].resample('D').count()\n",
    "\n",
    "# filter data in 2022\n",
    "daily_complaints_2022 = daily_complaints['2022']\n",
    "\n",
    "# Calculation of the average number of complaints per day in 2022\n",
    "average_daily_complaints_2022 = daily_complaints_2022.mean()\n",
    "average_daily_complaints_2022\n"
   ]
  },
  {
   "cell_type": "markdown",
   "id": "1a15125b-b4b7-48c5-a901-5de12eced92d",
   "metadata": {},
   "source": [
    "## The date with the maximum number of calls ##"
   ]
  },
  {
   "cell_type": "code",
   "execution_count": 58,
   "id": "35221bd0-4e84-45fc-837d-d860f6aae6c5",
   "metadata": {},
   "outputs": [
    {
     "name": "stdout",
     "output_type": "stream",
     "text": [
      "The date with the maximum number of calls is: 2020-08-04 00:00:00\n"
     ]
    }
   ],
   "source": [
    "# Sampling of data on a daily basis to calculate the number of complaints per day\n",
    "daily_complaints = df['Unique Key'].resample('D').count()\n",
    "\n",
    "# find the date with the maximum number of calls\n",
    "max_calls_date = daily_complaints.idxmax()\n",
    "\n",
    "# print result \n",
    "print(f\"The date with the maximum number of calls is: {max_calls_date}\")\n"
   ]
  },
  {
   "cell_type": "markdown",
   "id": "bb8178f8-ea37-443f-8f97-8e292c447e1d",
   "metadata": {},
   "source": [
    "## On the date the maximum number of calls were received, the most important complaint type ##"
   ]
  },
  {
   "cell_type": "code",
   "execution_count": 59,
   "id": "b1bf7fff-b58e-448a-af2a-5bc72fb36e31",
   "metadata": {},
   "outputs": [
    {
     "name": "stdout",
     "output_type": "stream",
     "text": [
      "On 2020-08-04, the most common complaint type was: Damaged Tree\n"
     ]
    }
   ],
   "source": [
    "# date with the maximum number of calls is 2020-08-04 beased on previous question \n",
    "specific_date_df = df.loc['2020-08-04']\n",
    "\n",
    "# find the complaint type\n",
    "top_complaint_on_specific_date = specific_date_df['Complaint Type'].value_counts().idxmax()\n",
    "\n",
    "print(f\"On 2020-08-04, the most common complaint type was: {top_complaint_on_specific_date}\")\n"
   ]
  },
  {
   "cell_type": "markdown",
   "id": "4473b11f-8bb3-4a11-bbe1-e2d4b2ef897e",
   "metadata": {},
   "source": [
    "## The quietest month historically ##\n"
   ]
  },
  {
   "cell_type": "code",
   "execution_count": 63,
   "id": "4cb7e1c8-2e05-42d7-a068-e5f8d5d183a7",
   "metadata": {},
   "outputs": [
    {
     "name": "stdout",
     "output_type": "stream",
     "text": [
      "The quietest month historically, on average, is: Month 12\n"
     ]
    }
   ],
   "source": [
    "# group by monthly \n",
    "monthly_calls = df.groupby(df.index.month)['Unique Key'].count()\n",
    "\n",
    "# count average call monthly \n",
    "monthly_average_calls = monthly_calls.groupby(monthly_calls.index).mean()\n",
    "\n",
    "# quietest month \n",
    "quietest_month = monthly_average_calls.idxmin()\n",
    "\n",
    "print(f\"The quietest month historically, on average, is: Month {quietest_month}\")\n"
   ]
  },
  {
   "cell_type": "markdown",
   "id": "d194e85b-e25f-47cb-86c1-e28cfdd26d69",
   "metadata": {},
   "source": [
    "## Perform ETS decomposition based on an additive model.  What is the value of the seasonal component on 2020-12-25 ##\n"
   ]
  },
  {
   "cell_type": "code",
   "execution_count": 64,
   "id": "80d9dd10-8035-484b-a823-360523c12d57",
   "metadata": {},
   "outputs": [
    {
     "data": {
      "text/plain": [
       "183"
      ]
     },
     "execution_count": 64,
     "metadata": {},
     "output_type": "execute_result"
    }
   ],
   "source": [
    "# Resample the series to a daily frequency\n",
    "daily_series = df['Unique Key'].resample('D').count()\n",
    "\n",
    "# Perform ETS decomposition based on an additive model\n",
    "decomposition = seasonal_decompose(daily_series, model='additive')\n",
    "\n",
    "# Extract the seasonal component\n",
    "seasonal = decomposition.seasonal\n",
    "\n",
    "# Find the value of the seasonal component on 2020-12-25\n",
    "seasonal_value = seasonal['2020-12-25']\n",
    "\n",
    "# Round the value to the nearest integer\n",
    "rounded_seasonal_value = round(seasonal_value)\n",
    "\n",
    "rounded_seasonal_value\n"
   ]
  },
  {
   "cell_type": "markdown",
   "id": "fa5105d2-5410-43c0-9b69-b06fc6c4edd7",
   "metadata": {},
   "source": [
    "## Calculate the autocorrelation of the number of daily calls with the number of calls the day prior ##"
   ]
  },
  {
   "cell_type": "code",
   "execution_count": 65,
   "id": "f409cbc6-3a2d-4992-b4d2-dd0d8026d4d1",
   "metadata": {},
   "outputs": [
    {
     "data": {
      "text/plain": [
       "0.7517059728398577"
      ]
     },
     "execution_count": 65,
     "metadata": {},
     "output_type": "execute_result"
    }
   ],
   "source": [
    "# Resample the series to a daily frequency\n",
    "daily_calls = df['Unique Key'].resample('D').count()\n",
    "\n",
    "# Calculate the autocorrelation with lag of 1.\n",
    "autocorrelation_lag_1 = daily_calls.autocorr(lag=1)\n",
    "\n",
    "autocorrelation_lag_1\n"
   ]
  },
  {
   "cell_type": "markdown",
   "id": "8c4027cc-1050-4829-a82f-5806a156c004",
   "metadata": {},
   "source": [
    "## Forecast the daily series with a test set of 90 days using the Prophet library. RMSE on test set ##"
   ]
  },
  {
   "cell_type": "code",
   "execution_count": 66,
   "id": "316c2a00-9215-43f5-9a86-3555710ce5e5",
   "metadata": {},
   "outputs": [
    {
     "name": "stderr",
     "output_type": "stream",
     "text": [
      "18:52:12 - cmdstanpy - INFO - Chain [1] start processing\n",
      "18:52:14 - cmdstanpy - INFO - Chain [1] done processing\n"
     ]
    },
    {
     "data": {
      "text/plain": [
       "1231.9040525595656"
      ]
     },
     "execution_count": 66,
     "metadata": {},
     "output_type": "execute_result"
    }
   ],
   "source": [
    "daily_calls = df['Unique Key'].resample('D').count().reset_index()\n",
    "daily_calls.columns = ['ds', 'y']\n",
    "\n",
    "# Split the dataset into training and testing sets\n",
    "train = daily_calls[:-90]\n",
    "test = daily_calls[-90:]\n",
    "\n",
    "# Create and fit the Prophet model\n",
    "model = Prophet(daily_seasonality=True)\n",
    "model.fit(train)\n",
    "\n",
    "# Create a DataFrame for the prediction dates\n",
    "future = model.make_future_dataframe(periods=90)\n",
    "\n",
    "# Predict\n",
    "forecast = model.predict(future)\n",
    "\n",
    "# Calculate the RMSE\n",
    "forecasted = forecast[-90:]['yhat']\n",
    "actual = test['y']\n",
    "rmse = sqrt(mean_squared_error(actual, forecasted))\n",
    "\n",
    "rmse\n"
   ]
  }
 ],
 "metadata": {
  "kernelspec": {
   "display_name": "Python 3 (ipykernel)",
   "language": "python",
   "name": "python3"
  },
  "language_info": {
   "codemirror_mode": {
    "name": "ipython",
    "version": 3
   },
   "file_extension": ".py",
   "mimetype": "text/x-python",
   "name": "python",
   "nbconvert_exporter": "python",
   "pygments_lexer": "ipython3",
   "version": "3.11.7"
  }
 },
 "nbformat": 4,
 "nbformat_minor": 5
}
